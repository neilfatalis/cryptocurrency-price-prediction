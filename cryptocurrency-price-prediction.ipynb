{
 "cells": [
  {
   "cell_type": "markdown",
   "metadata": {},
   "source": [
    "# Cryptocurrency Price Prediction"
   ]
  },
  {
   "cell_type": "code",
   "execution_count": 65,
   "metadata": {},
   "outputs": [],
   "source": [
    "import pandas as pd\n",
    "\n",
    "# Load Dataset A (January 1st, 2020 to December 21st, 2023)\n",
    "btc_a = pd.read_csv('data/btc-jan20-dec23.csv')\n",
    "\n",
    "# Load Dataset B (January 1st, 2024 to January 31st, 2024)\n",
    "btc_b = pd.read_csv('data/btc-jan24.csv')\n",
    "\n",
    "# Load Dataset A (January 1st, 2020 to December 21st, 2023)\n",
    "eth_a = pd.read_csv('data/eth-jan20-dec23.csv')\n",
    "\n",
    "# Load Dataset B (January 1st, 2024 to January 31st, 2024)\n",
    "eth_b = pd.read_csv('data/eth-jan24.csv')\n",
    "\n",
    "# Load Dataset A (January 1st, 2020 to December 21st, 2023)\n",
    "usdt_a = pd.read_csv('data/usdt-jan20-dec23.csv')\n",
    "\n",
    "# Load Dataset B (January 1st, 2024 to January 31st, 2024)\n",
    "usdt_b = pd.read_csv('data/usdt-jan24.csv')"
   ]
  },
  {
   "cell_type": "code",
   "execution_count": 66,
   "metadata": {},
   "outputs": [
    {
     "name": "stdout",
     "output_type": "stream",
     "text": [
      "Dataset BTC A (January 1st, 2020 to December 21st, 2023):\n",
      "         Date     Price      Open      High       Low    Vol. Change %\n",
      "0  12/31/2023  42,272.5  42,141.6  42,878.8  41,971.4  35.58K    0.32%\n",
      "1  12/30/2023  42,136.7  42,074.7  42,592.2  41,527.3  35.18K    0.15%\n",
      "2  12/29/2023  42,072.4  42,581.1  43,108.0  41,459.0  60.98K   -1.19%\n",
      "3  12/28/2023  42,581.1  43,446.5  43,782.6  42,309.3  49.84K   -1.99%\n",
      "4  12/27/2023  43,446.5  42,514.3  43,676.7  42,115.3  50.10K    2.20%\n",
      "<class 'pandas.core.frame.DataFrame'>\n",
      "RangeIndex: 1451 entries, 0 to 1450\n",
      "Data columns (total 7 columns):\n",
      " #   Column    Non-Null Count  Dtype \n",
      "---  ------    --------------  ----- \n",
      " 0   Date      1451 non-null   object\n",
      " 1   Price     1451 non-null   object\n",
      " 2   Open      1451 non-null   object\n",
      " 3   High      1451 non-null   object\n",
      " 4   Low       1451 non-null   object\n",
      " 5   Vol.      1451 non-null   object\n",
      " 6   Change %  1451 non-null   object\n",
      "dtypes: object(7)\n",
      "memory usage: 79.5+ KB\n",
      "None\n"
     ]
    }
   ],
   "source": [
    "print(\"Dataset BTC A (January 1st, 2020 to December 21st, 2023):\")\n",
    "print(btc_a.head())\n",
    "print(btc_a.info())"
   ]
  },
  {
   "cell_type": "code",
   "execution_count": 67,
   "metadata": {},
   "outputs": [
    {
     "name": "stdout",
     "output_type": "stream",
     "text": [
      "Dataset BTC B (January 1st, 2024 to January 31st, 2024):\n",
      "         Date     Price      Open      High       Low    Vol. Change %\n",
      "0  01/31/2024  42,580.5  42,946.2  43,739.7  42,315.4  56.48K   -0.85%\n",
      "1  01/30/2024  42,946.2  43,303.3  43,817.9  42,702.9  55.13K   -0.82%\n",
      "2  01/29/2024  43,299.8  42,031.4  43,305.6  41,824.7  45.23K    3.02%\n",
      "3  01/28/2024  42,030.7  42,121.3  42,817.1  41,649.0  32.53K   -0.21%\n",
      "4  01/27/2024  42,120.9  41,811.5  42,191.8  41,413.0  20.46K    0.74%\n",
      "<class 'pandas.core.frame.DataFrame'>\n",
      "RangeIndex: 31 entries, 0 to 30\n",
      "Data columns (total 7 columns):\n",
      " #   Column    Non-Null Count  Dtype \n",
      "---  ------    --------------  ----- \n",
      " 0   Date      31 non-null     object\n",
      " 1   Price     31 non-null     object\n",
      " 2   Open      31 non-null     object\n",
      " 3   High      31 non-null     object\n",
      " 4   Low       31 non-null     object\n",
      " 5   Vol.      31 non-null     object\n",
      " 6   Change %  31 non-null     object\n",
      "dtypes: object(7)\n",
      "memory usage: 1.8+ KB\n",
      "None\n"
     ]
    }
   ],
   "source": [
    "print(\"Dataset BTC B (January 1st, 2024 to January 31st, 2024):\")\n",
    "print(btc_b.head())\n",
    "print(btc_b.info())"
   ]
  },
  {
   "cell_type": "code",
   "execution_count": 68,
   "metadata": {},
   "outputs": [
    {
     "name": "stdout",
     "output_type": "stream",
     "text": [
      "Summary statistics for Dataset BTC A:\n",
      "              Date     Price      Open      High       Low   Vol. Change %\n",
      "count         1451      1451      1451      1451      1451   1451     1451\n",
      "unique        1451      1447      1445      1446      1450   1412      812\n",
      "top     12/31/2023  21,517.2  37,294.3  38,776.0  34,357.4  1.11M    1.42%\n",
      "freq             1         2         2         2         2      3        7\n",
      "Summary statistics for Dataset BTC B:\n",
      "              Date     Price      Open      High       Low    Vol. Change %\n",
      "count           31        31        31        31        31      31       31\n",
      "unique          31        31        31        31        31      31       31\n",
      "top     01/31/2024  42,580.5  42,946.2  43,739.7  42,315.4  56.48K   -0.85%\n",
      "freq             1         1         1         1         1       1        1\n"
     ]
    }
   ],
   "source": [
    "print(\"Summary statistics for Dataset BTC A:\")\n",
    "print(btc_a.describe())\n",
    "\n",
    "print(\"Summary statistics for Dataset BTC B:\")\n",
    "print(btc_b.describe())"
   ]
  },
  {
   "cell_type": "code",
   "execution_count": 70,
   "metadata": {},
   "outputs": [
    {
     "name": "stdout",
     "output_type": "stream",
     "text": [
      "Dataset ETH A (January 1st, 2020 to December 21st, 2023):\n",
      "         Date     Price      Open      High       Low     Vol. Change %\n",
      "0  12/31/2023  2,281.90  2,291.70  2,320.91  2,264.67  232.62K   -0.43%\n",
      "1  12/30/2023  2,291.70  2,299.24  2,322.76  2,269.23  219.92K   -0.33%\n",
      "2  12/29/2023  2,299.24  2,344.48  2,385.26  2,265.63  475.37K   -1.93%\n",
      "3  12/28/2023  2,344.47  2,378.63  2,443.59  2,338.46  626.91K   -1.44%\n",
      "4  12/27/2023  2,378.63  2,230.76  2,391.53  2,213.78  577.27K    6.63%\n",
      "<class 'pandas.core.frame.DataFrame'>\n",
      "RangeIndex: 1461 entries, 0 to 1460\n",
      "Data columns (total 7 columns):\n",
      " #   Column    Non-Null Count  Dtype \n",
      "---  ------    --------------  ----- \n",
      " 0   Date      1461 non-null   object\n",
      " 1   Price     1461 non-null   object\n",
      " 2   Open      1461 non-null   object\n",
      " 3   High      1461 non-null   object\n",
      " 4   Low       1461 non-null   object\n",
      " 5   Vol.      1461 non-null   object\n",
      " 6   Change %  1461 non-null   object\n",
      "dtypes: object(7)\n",
      "memory usage: 80.0+ KB\n",
      "None\n"
     ]
    }
   ],
   "source": [
    "print(\"Dataset ETH A (January 1st, 2020 to December 21st, 2023):\")\n",
    "print(eth_a.head())\n",
    "print(eth_a.info())"
   ]
  },
  {
   "cell_type": "code",
   "execution_count": 71,
   "metadata": {},
   "outputs": [
    {
     "name": "stdout",
     "output_type": "stream",
     "text": [
      "Dataset ETH B (January 1st, 2024 to January 31st, 2024):\n",
      "         Date     Price      Open      High       Low     Vol. Change %\n",
      "0  01/31/2024  2,283.14  2,343.11  2,350.80  2,266.80  408.79K   -2.56%\n",
      "1  01/30/2024  2,343.11  2,317.79  2,389.23  2,298.85  387.12K    1.09%\n",
      "2  01/29/2024  2,317.79  2,256.92  2,320.97  2,237.69  318.84K    2.70%\n",
      "3  01/28/2024  2,256.92  2,267.91  2,306.43  2,240.14  216.93K   -0.48%\n",
      "4  01/27/2024  2,267.91  2,267.56  2,282.16  2,252.31  151.26K    0.02%\n",
      "<class 'pandas.core.frame.DataFrame'>\n",
      "RangeIndex: 62 entries, 0 to 61\n",
      "Data columns (total 7 columns):\n",
      " #   Column    Non-Null Count  Dtype \n",
      "---  ------    --------------  ----- \n",
      " 0   Date      62 non-null     object\n",
      " 1   Price     62 non-null     object\n",
      " 2   Open      62 non-null     object\n",
      " 3   High      62 non-null     object\n",
      " 4   Low       62 non-null     object\n",
      " 5   Vol.      62 non-null     object\n",
      " 6   Change %  62 non-null     object\n",
      "dtypes: object(7)\n",
      "memory usage: 3.5+ KB\n",
      "None\n"
     ]
    }
   ],
   "source": [
    "print(\"Dataset ETH B (January 1st, 2024 to January 31st, 2024):\")\n",
    "print(eth_b.head())\n",
    "print(eth_b.info())"
   ]
  },
  {
   "cell_type": "code",
   "execution_count": 72,
   "metadata": {},
   "outputs": [
    {
     "name": "stdout",
     "output_type": "stream",
     "text": [
      "Summary statistics for Dataset ETH A:\n",
      "              Date     Price    Open    High       Low   Vol. Change %\n",
      "count         1461      1461    1461    1461      1461   1461     1461\n",
      "unique        1461      1454    1452    1456      1458   1256      894\n",
      "top     12/31/2023  2,229.53  379.03  146.46  1,550.10  1.94M   -0.05%\n",
      "freq             1         2       2       2         2      7        7\n",
      "Summary statistics for Dataset ETH B:\n",
      "              Date     Price      Open      High       Low     Vol. Change %\n",
      "count           62        62        62        62        62       62       62\n",
      "unique          62        62        62        62        62       62       60\n",
      "top     01/31/2024  2,283.14  2,343.11  2,350.80  2,266.80  408.79K   -1.44%\n",
      "freq             1         1         1         1         1        1        2\n"
     ]
    }
   ],
   "source": [
    "print(\"Summary statistics for Dataset ETH A:\")\n",
    "print(eth_a.describe())\n",
    "\n",
    "print(\"Summary statistics for Dataset ETH B:\")\n",
    "print(eth_b.describe())"
   ]
  },
  {
   "cell_type": "code",
   "execution_count": 73,
   "metadata": {},
   "outputs": [
    {
     "name": "stdout",
     "output_type": "stream",
     "text": [
      "Dataset USDT A (January 1st, 2020 to December 21st, 2023):\n",
      "         Date   Price    Open    High     Low     Vol. Change %\n",
      "0  12/31/2023  1.0001  1.0005  1.0011  0.9998   68.22M   -0.04%\n",
      "1  12/30/2023  1.0005  1.0006  1.0011  1.0004   89.68M   -0.01%\n",
      "2  12/29/2023  1.0006  1.0009  1.0012  1.0003  224.78M   -0.03%\n",
      "3  12/28/2023  1.0009  1.0008  1.0011  1.0004  242.14M    0.01%\n",
      "4  12/27/2023  1.0008  1.0004  1.0013  1.0003  277.58M    0.04%\n",
      "<class 'pandas.core.frame.DataFrame'>\n",
      "RangeIndex: 1461 entries, 0 to 1460\n",
      "Data columns (total 7 columns):\n",
      " #   Column    Non-Null Count  Dtype  \n",
      "---  ------    --------------  -----  \n",
      " 0   Date      1461 non-null   object \n",
      " 1   Price     1461 non-null   float64\n",
      " 2   Open      1461 non-null   float64\n",
      " 3   High      1461 non-null   float64\n",
      " 4   Low       1461 non-null   float64\n",
      " 5   Vol.      1461 non-null   object \n",
      " 6   Change %  1461 non-null   object \n",
      "dtypes: float64(4), object(3)\n",
      "memory usage: 80.0+ KB\n",
      "None\n"
     ]
    }
   ],
   "source": [
    "print(\"Dataset USDT A (January 1st, 2020 to December 21st, 2023):\")\n",
    "print(usdt_a.head())\n",
    "print(usdt_a.info())"
   ]
  },
  {
   "cell_type": "code",
   "execution_count": 69,
   "metadata": {},
   "outputs": [
    {
     "name": "stdout",
     "output_type": "stream",
     "text": [
      "Dataset USDT B (January 1st, 2024 to January 31st, 2024):\n",
      "         Date   Price    Open    High     Low     Vol. Change %\n",
      "0  01/31/2024  0.9994  1.0001  1.0003  0.9993  185.14M   -0.07%\n",
      "1  01/30/2024  1.0001  1.0002  1.0002  0.9998  155.10M    0.00%\n",
      "2  01/29/2024  1.0002  1.0000  1.0008  0.9998  175.01M    0.01%\n",
      "3  01/28/2024  1.0000  1.0001  1.0001  0.9996   58.75M   -0.01%\n",
      "4  01/27/2024  1.0001  1.0000  1.0002  0.9998   47.28M    0.01%\n",
      "<class 'pandas.core.frame.DataFrame'>\n",
      "RangeIndex: 52 entries, 0 to 51\n",
      "Data columns (total 7 columns):\n",
      " #   Column    Non-Null Count  Dtype  \n",
      "---  ------    --------------  -----  \n",
      " 0   Date      52 non-null     object \n",
      " 1   Price     52 non-null     float64\n",
      " 2   Open      52 non-null     float64\n",
      " 3   High      52 non-null     float64\n",
      " 4   Low       52 non-null     float64\n",
      " 5   Vol.      52 non-null     object \n",
      " 6   Change %  52 non-null     object \n",
      "dtypes: float64(4), object(3)\n",
      "memory usage: 3.0+ KB\n",
      "None\n"
     ]
    }
   ],
   "source": [
    "print(\"Dataset USDT B (January 1st, 2024 to January 31st, 2024):\")\n",
    "print(usdt_b.head())\n",
    "print(usdt_b.info())"
   ]
  },
  {
   "cell_type": "code",
   "execution_count": 74,
   "metadata": {},
   "outputs": [
    {
     "name": "stdout",
     "output_type": "stream",
     "text": [
      "Summary statistics for Dataset USDT A:\n",
      "             Price         Open         High          Low\n",
      "count  1461.000000  1461.000000  1461.000000  1461.000000\n",
      "mean      1.000472     1.000537     1.001377     0.999957\n",
      "std       0.001106     0.001232     0.002810     0.001260\n",
      "min       0.996800     0.996900     0.999100     0.974400\n",
      "25%       1.000000     1.000000     1.000500     0.999700\n",
      "50%       1.000300     1.000300     1.000800     1.000000\n",
      "75%       1.000700     1.000700     1.001400     1.000200\n",
      "max       1.014800     1.016300     1.066700     1.007800\n",
      "Summary statistics for Dataset USDT B:\n",
      "           Price       Open       High        Low\n",
      "count  52.000000  52.000000  52.000000  52.000000\n",
      "mean    1.000204   1.000304   1.001040   0.999819\n",
      "std     0.000433   0.000540   0.000882   0.000511\n",
      "min     0.999300   0.999300   1.000100   0.998400\n",
      "25%     1.000000   1.000000   1.000675   0.999475\n",
      "50%     1.000200   1.000250   1.001000   0.999800\n",
      "75%     1.000500   1.000800   1.001200   1.000300\n",
      "max     1.001000   1.001400   1.006400   1.000700\n"
     ]
    }
   ],
   "source": [
    "print(\"Summary statistics for Dataset USDT A:\")\n",
    "print(usdt_a.describe())\n",
    "\n",
    "print(\"Summary statistics for Dataset USDT B:\")\n",
    "print(usdt_b.describe())"
   ]
  },
  {
   "cell_type": "code",
   "execution_count": 75,
   "metadata": {},
   "outputs": [],
   "source": [
    "# Ensure the date column is in datetime format\n",
    "btc_a['Date'] = pd.to_datetime(btc_a['Date'])\n",
    "btc_b['Date'] = pd.to_datetime(btc_b['Date'])\n",
    "eth_a['Date'] = pd.to_datetime(eth_a['Date'])\n",
    "eth_b['Date'] = pd.to_datetime(eth_b['Date'])\n",
    "usdt_a['Date'] = pd.to_datetime(usdt_a['Date'])\n",
    "usdt_b['Date'] = pd.to_datetime(usdt_b['Date'])\n"
   ]
  },
  {
   "cell_type": "code",
   "execution_count": 85,
   "metadata": {},
   "outputs": [
    {
     "name": "stdout",
     "output_type": "stream",
     "text": [
      "Date column conversion check for Dataset A:\n",
      "0   2023-12-31\n",
      "1   2023-12-30\n",
      "2   2023-12-29\n",
      "3   2023-12-28\n",
      "4   2023-12-27\n",
      "Name: Date, dtype: datetime64[ns] \n",
      "\n",
      "Date column conversion check for Dataset B:\n",
      "0   2024-01-31\n",
      "1   2024-01-30\n",
      "2   2024-01-29\n",
      "3   2024-01-28\n",
      "4   2024-01-27\n",
      "Name: Date, dtype: datetime64[ns]\n"
     ]
    }
   ],
   "source": [
    "print(\"Date column conversion check for Dataset BTC A:\")\n",
    "print(btc_a['Date'].head(), \"\\n\")\n",
    "print(\"Date column conversion check for Dataset BTC B:\")\n",
    "print(btc_b['Date'].head())"
   ]
  },
  {
   "cell_type": "code",
   "execution_count": 86,
   "metadata": {},
   "outputs": [
    {
     "name": "stdout",
     "output_type": "stream",
     "text": [
      "Date column conversion check for Dataset A:\n",
      "0   2023-12-31\n",
      "1   2023-12-30\n",
      "2   2023-12-29\n",
      "3   2023-12-28\n",
      "4   2023-12-27\n",
      "Name: Date, dtype: datetime64[ns] \n",
      "\n",
      "Date column conversion check for Dataset B:\n",
      "0   2024-01-31\n",
      "1   2024-01-30\n",
      "2   2024-01-29\n",
      "3   2024-01-28\n",
      "4   2024-01-27\n",
      "Name: Date, dtype: datetime64[ns]\n"
     ]
    }
   ],
   "source": [
    "print(\"Date column conversion check for Dataset ETH A:\")\n",
    "print(eth_a['Date'].head(), \"\\n\")\n",
    "print(\"Date column conversion check for Dataset ETH B:\")\n",
    "print(eth_b['Date'].head())"
   ]
  },
  {
   "cell_type": "code",
   "execution_count": 78,
   "metadata": {},
   "outputs": [
    {
     "name": "stdout",
     "output_type": "stream",
     "text": [
      "Date column conversion check for Dataset A:\n",
      "0   2023-12-31\n",
      "1   2023-12-30\n",
      "2   2023-12-29\n",
      "3   2023-12-28\n",
      "4   2023-12-27\n",
      "Name: Date, dtype: datetime64[ns]\n",
      "Date column conversion check for Dataset B:\n",
      "0   2024-01-31\n",
      "1   2024-01-30\n",
      "2   2024-01-29\n",
      "3   2024-01-28\n",
      "4   2024-01-27\n",
      "Name: Date, dtype: datetime64[ns]\n"
     ]
    }
   ],
   "source": [
    "print(\"Date column conversion check for Dataset USDT A:\")\n",
    "print(usdt_a['Date'].head(), \"\\n\")\n",
    "print(\"Date column conversion check for Dataset USDT B:\")\n",
    "print(usdt_b['Date'].head())"
   ]
  },
  {
   "cell_type": "code",
   "execution_count": 79,
   "metadata": {},
   "outputs": [],
   "source": [
    "# Adjust the price_columns list based on the dataset structure\n",
    "price_columns = ['Open', 'High', 'Low', 'Vol.', 'Change %']"
   ]
  },
  {
   "cell_type": "code",
   "execution_count": 80,
   "metadata": {},
   "outputs": [
    {
     "name": "stdout",
     "output_type": "stream",
     "text": [
      "Key price columns in the Dataset BTC A:\n",
      "       Open      High       Low    Vol. Change %\n",
      "0  42,141.6  42,878.8  41,971.4  35.58K    0.32%\n",
      "1  42,074.7  42,592.2  41,527.3  35.18K    0.15%\n",
      "2  42,581.1  43,108.0  41,459.0  60.98K   -1.19%\n",
      "3  43,446.5  43,782.6  42,309.3  49.84K   -1.99%\n",
      "4  42,514.3  43,676.7  42,115.3  50.10K    2.20% \n",
      "\n",
      "Key price columns in the Dataset BTC B:\n",
      "       Open      High       Low    Vol. Change %\n",
      "0  42,946.2  43,739.7  42,315.4  56.48K   -0.85%\n",
      "1  43,303.3  43,817.9  42,702.9  55.13K   -0.82%\n",
      "2  42,031.4  43,305.6  41,824.7  45.23K    3.02%\n",
      "3  42,121.3  42,817.1  41,649.0  32.53K   -0.21%\n",
      "4  41,811.5  42,191.8  41,413.0  20.46K    0.74%\n"
     ]
    }
   ],
   "source": [
    "# Display the first few rows of the price columns\n",
    "print(\"Key price columns in the Dataset BTC A:\")\n",
    "print(btc_a[price_columns].head(), \"\\n\")\n",
    "print(\"Key price columns in the Dataset BTC B:\")\n",
    "print(btc_b[price_columns].head())"
   ]
  },
  {
   "cell_type": "code",
   "execution_count": 84,
   "metadata": {},
   "outputs": [
    {
     "name": "stdout",
     "output_type": "stream",
     "text": [
      "Key price columns in the Dataset ETH A:\n",
      "       Open      High       Low     Vol. Change %\n",
      "0  2,291.70  2,320.91  2,264.67  232.62K   -0.43%\n",
      "1  2,299.24  2,322.76  2,269.23  219.92K   -0.33%\n",
      "2  2,344.48  2,385.26  2,265.63  475.37K   -1.93%\n",
      "3  2,378.63  2,443.59  2,338.46  626.91K   -1.44%\n",
      "4  2,230.76  2,391.53  2,213.78  577.27K    6.63% \n",
      "\n",
      "Key price columns in the Dataset ETH B:\n",
      "       Open      High       Low     Vol. Change %\n",
      "0  2,343.11  2,350.80  2,266.80  408.79K   -2.56%\n",
      "1  2,317.79  2,389.23  2,298.85  387.12K    1.09%\n",
      "2  2,256.92  2,320.97  2,237.69  318.84K    2.70%\n",
      "3  2,267.91  2,306.43  2,240.14  216.93K   -0.48%\n",
      "4  2,267.56  2,282.16  2,252.31  151.26K    0.02%\n"
     ]
    }
   ],
   "source": [
    "# Display the first few rows of the price columns\n",
    "print(\"Key price columns in the Dataset ETH A:\")\n",
    "print(eth_a[price_columns].head(), \"\\n\")\n",
    "print(\"Key price columns in the Dataset ETH B:\")\n",
    "print(eth_b[price_columns].head())"
   ]
  },
  {
   "cell_type": "code",
   "execution_count": 82,
   "metadata": {},
   "outputs": [
    {
     "name": "stdout",
     "output_type": "stream",
     "text": [
      "Key price columns in the Dataset USDT A:\n",
      "     Open    High     Low     Vol. Change %\n",
      "0  1.0005  1.0011  0.9998   68.22M   -0.04%\n",
      "1  1.0006  1.0011  1.0004   89.68M   -0.01%\n",
      "2  1.0009  1.0012  1.0003  224.78M   -0.03%\n",
      "3  1.0008  1.0011  1.0004  242.14M    0.01%\n",
      "4  1.0004  1.0013  1.0003  277.58M    0.04% \n",
      "\n",
      "Key price columns in the Dataset USDT B:\n",
      "     Open    High     Low     Vol. Change %\n",
      "0  1.0001  1.0003  0.9993  185.14M   -0.07%\n",
      "1  1.0002  1.0002  0.9998  155.10M    0.00%\n",
      "2  1.0000  1.0008  0.9998  175.01M    0.01%\n",
      "3  1.0001  1.0001  0.9996   58.75M   -0.01%\n",
      "4  1.0000  1.0002  0.9998   47.28M    0.01%\n"
     ]
    }
   ],
   "source": [
    "# Display the first few rows of the price columns\n",
    "print(\"Key price columns in the Dataset USDT A:\")\n",
    "print(usdt_a[price_columns].head(), \"\\n\")\n",
    "print(\"Key price columns in the Dataset USDT B:\")\n",
    "print(usdt_b[price_columns].head())"
   ]
  }
 ],
 "metadata": {
  "kernelspec": {
   "display_name": "datascience",
   "language": "python",
   "name": "python3"
  },
  "language_info": {
   "codemirror_mode": {
    "name": "ipython",
    "version": 3
   },
   "file_extension": ".py",
   "mimetype": "text/x-python",
   "name": "python",
   "nbconvert_exporter": "python",
   "pygments_lexer": "ipython3",
   "version": "3.11.9"
  }
 },
 "nbformat": 4,
 "nbformat_minor": 2
}
